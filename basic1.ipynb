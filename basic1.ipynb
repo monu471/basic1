{
 "cells": [
  {
   "cell_type": "markdown",
   "id": "c60e4faa",
   "metadata": {},
   "source": [
    "1. In the below elements which of them are values or an expression? eg:- values can be\n",
    "integer or string and expressions will be mathematical operators.\n",
    "*\n",
    "\"hello\";\n",
    "-87.8\n",
    "-\n",
    "/\n",
    "+\n",
    "6"
   ]
  },
  {
   "cell_type": "markdown",
   "id": "58ec16f4",
   "metadata": {},
   "source": [
    "values = \"hello\",-87.8,6\n",
    "\n",
    "expression = /"
   ]
  },
  {
   "cell_type": "markdown",
   "id": "3e49ce4d",
   "metadata": {},
   "source": [
    "#### 2. What is the difference between string and variable?"
   ]
  },
  {
   "cell_type": "markdown",
   "id": "3a822e8c",
   "metadata": {},
   "source": [
    "A string is a sequence of characters, such as letters, numbers, and symbols.\n",
    "A variable is a named storage location that can hold different types of data.\n",
    "Strings are a type of value that can be stored in variables or used independently.\n",
    "Variables allow programmers to store and manipulate data in their programs.\n",
    "Strings are commonly used to represent and manipulate textual data in programming."
   ]
  },
  {
   "cell_type": "markdown",
   "id": "8998b5bc",
   "metadata": {},
   "source": [
    "### 3. Describe three different data types."
   ]
  },
  {
   "cell_type": "markdown",
   "id": "a961c989",
   "metadata": {},
   "source": [
    "string,float,bool"
   ]
  },
  {
   "cell_type": "markdown",
   "id": "0111a2cd",
   "metadata": {},
   "source": [
    "#### 4. What is an expression made up of? What do all expressions do?"
   ]
  },
  {
   "cell_type": "markdown",
   "id": "0a220543",
   "metadata": {},
   "source": [
    "An expression is made up of one or more operands and operators. \n",
    "\n",
    "Operands can be values, variables, or other expressions. They are the entities on which the operations are performed.\n",
    "\n",
    "Operators are symbols or keywords that define the type of operation to be performed on the operands. Examples of operators include arithmetic operators (+, -, *, /), comparison operators (>, <, ==), and logical operators (&&, ||).\n",
    "\n",
    "All expressions evaluate to a value. When an expression is evaluated, the operators are applied to the operands, and the result is computed. The result can be a value of any data type, depending on the expression and the operations performed.\n",
    "\n",
    "Expressions are fundamental in programming as they allow you to perform calculations, make decisions, and manipulate data. They are used to represent complex computations, assign values to variables, and control program flow."
   ]
  },
  {
   "cell_type": "markdown",
   "id": "707cdc3a",
   "metadata": {},
   "source": [
    "#### 5. This assignment statements, like spam = 10. What is the difference between anexpression and a statement?"
   ]
  },
  {
   "cell_type": "markdown",
   "id": "0981e78b",
   "metadata": {},
   "source": [
    "expressions produce values when evaluated, while statements are instructions or actions that perform a specific task and do not produce a value.\n",
    "\n",
    "\n",
    "\n",
    "\n"
   ]
  },
  {
   "cell_type": "markdown",
   "id": "378ded63",
   "metadata": {},
   "source": [
    "### 6. After running the following code, what does the variable bacon contain?bacon = 22,bacon + 1"
   ]
  },
  {
   "cell_type": "code",
   "execution_count": 2,
   "id": "57bcf4cf",
   "metadata": {},
   "outputs": [
    {
     "data": {
      "text/plain": [
       "23"
      ]
     },
     "execution_count": 2,
     "metadata": {},
     "output_type": "execute_result"
    }
   ],
   "source": [
    "bacon = 22\n",
    "bacon +1"
   ]
  },
  {
   "cell_type": "markdown",
   "id": "1777bc04",
   "metadata": {},
   "source": [
    "### 7. What should the values of the following two terms be?\n"
   ]
  },
  {
   "cell_type": "markdown",
   "id": "51d6522e",
   "metadata": {},
   "source": [
    "\"spam\"+\"spamspam\" = spamspamspam\n",
    "\n",
    "\"spam\"*3 = spamspamspam"
   ]
  },
  {
   "cell_type": "markdown",
   "id": "2c836a1f",
   "metadata": {},
   "source": [
    "### 8. Why is eggs a valid variable name while 100 is invalid?"
   ]
  },
  {
   "cell_type": "markdown",
   "id": "ecc45d41",
   "metadata": {},
   "source": [
    " \"eggs\" is a valid variable name because it starts with a letter, follows the composition rules, and is meaningful. \"100\" is invalid because it starts with a digit, violating the naming conventions and readability guidelines."
   ]
  },
  {
   "cell_type": "markdown",
   "id": "d035f479",
   "metadata": {},
   "source": [
    "### 9. What three functions can be used to get the integer, floating-point number, or string version of a value?"
   ]
  },
  {
   "cell_type": "markdown",
   "id": "b6012f63",
   "metadata": {},
   "source": [
    "int(),float(),str()"
   ]
  },
  {
   "cell_type": "markdown",
   "id": "173e53be",
   "metadata": {},
   "source": [
    "### 10. Why does this expression cause an error? How can you fix it?\n",
    "### 'I have eaten' + 99 + 'burritos'"
   ]
  },
  {
   "cell_type": "markdown",
   "id": "0e713636",
   "metadata": {},
   "source": [
    "error beacuse str cannot concat with int to fix it we have to typecast the int to str"
   ]
  },
  {
   "cell_type": "code",
   "execution_count": null,
   "id": "63840aaf",
   "metadata": {},
   "outputs": [],
   "source": []
  }
 ],
 "metadata": {
  "kernelspec": {
   "display_name": "Python 3 (ipykernel)",
   "language": "python",
   "name": "python3"
  },
  "language_info": {
   "codemirror_mode": {
    "name": "ipython",
    "version": 3
   },
   "file_extension": ".py",
   "mimetype": "text/x-python",
   "name": "python",
   "nbconvert_exporter": "python",
   "pygments_lexer": "ipython3",
   "version": "3.10.9"
  }
 },
 "nbformat": 4,
 "nbformat_minor": 5
}
